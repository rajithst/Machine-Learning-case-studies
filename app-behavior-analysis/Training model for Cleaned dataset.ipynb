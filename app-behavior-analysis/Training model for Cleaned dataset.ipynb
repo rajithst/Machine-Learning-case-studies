{
 "cells": [
  {
   "cell_type": "code",
   "execution_count": 1,
   "metadata": {},
   "outputs": [],
   "source": [
    "#import libraris\n",
    "import pandas as pd\n",
    "import numpy as np\n",
    "import matplotlib.pyplot as plt\n",
    "import seaborn as sns\n",
    "import time"
   ]
  },
  {
   "cell_type": "code",
   "execution_count": 2,
   "metadata": {},
   "outputs": [],
   "source": [
    "dataset = pd.read_csv('data/new_appdata.csv')"
   ]
  },
  {
   "cell_type": "code",
   "execution_count": 3,
   "metadata": {},
   "outputs": [
    {
     "data": {
      "text/html": [
       "<div>\n",
       "<style scoped>\n",
       "    .dataframe tbody tr th:only-of-type {\n",
       "        vertical-align: middle;\n",
       "    }\n",
       "\n",
       "    .dataframe tbody tr th {\n",
       "        vertical-align: top;\n",
       "    }\n",
       "\n",
       "    .dataframe thead th {\n",
       "        text-align: right;\n",
       "    }\n",
       "</style>\n",
       "<table border=\"1\" class=\"dataframe\">\n",
       "  <thead>\n",
       "    <tr style=\"text-align: right;\">\n",
       "      <th></th>\n",
       "      <th>user</th>\n",
       "      <th>dayofweek</th>\n",
       "      <th>hour</th>\n",
       "      <th>age</th>\n",
       "      <th>numscreens</th>\n",
       "      <th>minigame</th>\n",
       "      <th>used_premium_feature</th>\n",
       "      <th>enrolled</th>\n",
       "      <th>liked</th>\n",
       "      <th>location</th>\n",
       "      <th>...</th>\n",
       "      <th>SecurityModal</th>\n",
       "      <th>ResendToken</th>\n",
       "      <th>TransactionList</th>\n",
       "      <th>NetworkFailure</th>\n",
       "      <th>ListPicker</th>\n",
       "      <th>others</th>\n",
       "      <th>SavingsCount</th>\n",
       "      <th>CCCount</th>\n",
       "      <th>LoansCount</th>\n",
       "      <th>CMCount</th>\n",
       "    </tr>\n",
       "  </thead>\n",
       "  <tbody>\n",
       "    <tr>\n",
       "      <th>0</th>\n",
       "      <td>235136</td>\n",
       "      <td>3</td>\n",
       "      <td>2</td>\n",
       "      <td>23</td>\n",
       "      <td>15</td>\n",
       "      <td>0</td>\n",
       "      <td>0</td>\n",
       "      <td>0</td>\n",
       "      <td>0</td>\n",
       "      <td>0</td>\n",
       "      <td>...</td>\n",
       "      <td>0</td>\n",
       "      <td>0</td>\n",
       "      <td>0</td>\n",
       "      <td>0</td>\n",
       "      <td>0</td>\n",
       "      <td>7</td>\n",
       "      <td>0</td>\n",
       "      <td>0</td>\n",
       "      <td>1</td>\n",
       "      <td>0</td>\n",
       "    </tr>\n",
       "    <tr>\n",
       "      <th>1</th>\n",
       "      <td>333588</td>\n",
       "      <td>6</td>\n",
       "      <td>1</td>\n",
       "      <td>24</td>\n",
       "      <td>13</td>\n",
       "      <td>0</td>\n",
       "      <td>0</td>\n",
       "      <td>0</td>\n",
       "      <td>0</td>\n",
       "      <td>1</td>\n",
       "      <td>...</td>\n",
       "      <td>0</td>\n",
       "      <td>0</td>\n",
       "      <td>0</td>\n",
       "      <td>0</td>\n",
       "      <td>0</td>\n",
       "      <td>5</td>\n",
       "      <td>0</td>\n",
       "      <td>0</td>\n",
       "      <td>1</td>\n",
       "      <td>0</td>\n",
       "    </tr>\n",
       "    <tr>\n",
       "      <th>2</th>\n",
       "      <td>254414</td>\n",
       "      <td>1</td>\n",
       "      <td>19</td>\n",
       "      <td>23</td>\n",
       "      <td>3</td>\n",
       "      <td>0</td>\n",
       "      <td>1</td>\n",
       "      <td>0</td>\n",
       "      <td>1</td>\n",
       "      <td>0</td>\n",
       "      <td>...</td>\n",
       "      <td>0</td>\n",
       "      <td>0</td>\n",
       "      <td>0</td>\n",
       "      <td>0</td>\n",
       "      <td>0</td>\n",
       "      <td>0</td>\n",
       "      <td>0</td>\n",
       "      <td>0</td>\n",
       "      <td>1</td>\n",
       "      <td>0</td>\n",
       "    </tr>\n",
       "    <tr>\n",
       "      <th>3</th>\n",
       "      <td>234192</td>\n",
       "      <td>4</td>\n",
       "      <td>16</td>\n",
       "      <td>28</td>\n",
       "      <td>40</td>\n",
       "      <td>0</td>\n",
       "      <td>0</td>\n",
       "      <td>1</td>\n",
       "      <td>0</td>\n",
       "      <td>1</td>\n",
       "      <td>...</td>\n",
       "      <td>0</td>\n",
       "      <td>0</td>\n",
       "      <td>0</td>\n",
       "      <td>0</td>\n",
       "      <td>0</td>\n",
       "      <td>6</td>\n",
       "      <td>0</td>\n",
       "      <td>0</td>\n",
       "      <td>1</td>\n",
       "      <td>3</td>\n",
       "    </tr>\n",
       "    <tr>\n",
       "      <th>4</th>\n",
       "      <td>51549</td>\n",
       "      <td>1</td>\n",
       "      <td>18</td>\n",
       "      <td>31</td>\n",
       "      <td>32</td>\n",
       "      <td>0</td>\n",
       "      <td>0</td>\n",
       "      <td>1</td>\n",
       "      <td>1</td>\n",
       "      <td>0</td>\n",
       "      <td>...</td>\n",
       "      <td>0</td>\n",
       "      <td>0</td>\n",
       "      <td>0</td>\n",
       "      <td>0</td>\n",
       "      <td>0</td>\n",
       "      <td>10</td>\n",
       "      <td>0</td>\n",
       "      <td>0</td>\n",
       "      <td>1</td>\n",
       "      <td>2</td>\n",
       "    </tr>\n",
       "  </tbody>\n",
       "</table>\n",
       "<p>5 rows × 50 columns</p>\n",
       "</div>"
      ],
      "text/plain": [
       "     user  dayofweek  hour  age  numscreens  minigame  used_premium_feature  \\\n",
       "0  235136          3     2   23          15         0                     0   \n",
       "1  333588          6     1   24          13         0                     0   \n",
       "2  254414          1    19   23           3         0                     1   \n",
       "3  234192          4    16   28          40         0                     0   \n",
       "4   51549          1    18   31          32         0                     0   \n",
       "\n",
       "   enrolled  liked  location   ...     SecurityModal  ResendToken  \\\n",
       "0         0      0         0   ...                 0            0   \n",
       "1         0      0         1   ...                 0            0   \n",
       "2         0      1         0   ...                 0            0   \n",
       "3         1      0         1   ...                 0            0   \n",
       "4         1      1         0   ...                 0            0   \n",
       "\n",
       "   TransactionList  NetworkFailure  ListPicker  others  SavingsCount  CCCount  \\\n",
       "0                0               0           0       7             0        0   \n",
       "1                0               0           0       5             0        0   \n",
       "2                0               0           0       0             0        0   \n",
       "3                0               0           0       6             0        0   \n",
       "4                0               0           0      10             0        0   \n",
       "\n",
       "   LoansCount  CMCount  \n",
       "0           1        0  \n",
       "1           1        0  \n",
       "2           1        0  \n",
       "3           1        3  \n",
       "4           1        2  \n",
       "\n",
       "[5 rows x 50 columns]"
      ]
     },
     "execution_count": 3,
     "metadata": {},
     "output_type": "execute_result"
    }
   ],
   "source": [
    "dataset.head()"
   ]
  },
  {
   "cell_type": "code",
   "execution_count": 4,
   "metadata": {},
   "outputs": [],
   "source": [
    "#preprocessing\n",
    "response = dataset['enrolled']\n",
    "dataset = dataset.drop(columns='enrolled')"
   ]
  },
  {
   "cell_type": "code",
   "execution_count": 5,
   "metadata": {},
   "outputs": [],
   "source": [
    "from sklearn.model_selection import train_test_split\n",
    "X_train,X_test,y_train,y_test = train_test_split(dataset,response,test_size=0.2,random_state=0)"
   ]
  },
  {
   "cell_type": "code",
   "execution_count": 6,
   "metadata": {},
   "outputs": [],
   "source": [
    "#remove use column by both test and train,but keep track for identification of the each user\n",
    "train_identifier = X_train['user']\n",
    "test_identifier = X_test['user']\n",
    "X_train = X_train.drop(columns='user')\n",
    "X_test = X_test.drop(columns='user')"
   ]
  },
  {
   "cell_type": "code",
   "execution_count": 7,
   "metadata": {},
   "outputs": [],
   "source": [
    "#feature scaling\n",
    "from sklearn.preprocessing import StandardScaler"
   ]
  },
  {
   "cell_type": "code",
   "execution_count": 8,
   "metadata": {},
   "outputs": [],
   "source": [
    "sc_X = StandardScaler()"
   ]
  },
  {
   "cell_type": "code",
   "execution_count": 9,
   "metadata": {},
   "outputs": [
    {
     "name": "stderr",
     "output_type": "stream",
     "text": [
      "C:\\Users\\rajit\\Anaconda3\\lib\\site-packages\\sklearn\\preprocessing\\data.py:625: DataConversionWarning: Data with input dtype int64 were all converted to float64 by StandardScaler.\n",
      "  return self.partial_fit(X, y)\n",
      "C:\\Users\\rajit\\Anaconda3\\lib\\site-packages\\sklearn\\base.py:462: DataConversionWarning: Data with input dtype int64 were all converted to float64 by StandardScaler.\n",
      "  return self.fit(X, **fit_params).transform(X)\n",
      "C:\\Users\\rajit\\Anaconda3\\lib\\site-packages\\ipykernel_launcher.py:3: DataConversionWarning: Data with input dtype int64 were all converted to float64 by StandardScaler.\n",
      "  This is separate from the ipykernel package so we can avoid doing imports until\n"
     ]
    }
   ],
   "source": [
    "#since sc return numpy array,we loose column names and index,so we scale in to  a dataframe\n",
    "X_train2 = pd.DataFrame(sc_X.fit_transform(X_train))\n",
    "X_test2 = pd.DataFrame(sc_X.transform(X_test))\n",
    "\n",
    "#add columns\n",
    "X_train2.columns = X_train.columns.values\n",
    "X_test2.columns = X_test.columns.values\n",
    "\n",
    "#add index\n",
    "X_train2.index = X_train.index.values\n",
    "X_test2.index = X_test.index.values\n",
    "\n",
    "#assign back to original variables\n",
    "X_train = X_train2\n",
    "X_test = X_test2"
   ]
  },
  {
   "cell_type": "code",
   "execution_count": 10,
   "metadata": {},
   "outputs": [
    {
     "data": {
      "text/html": [
       "<div>\n",
       "<style scoped>\n",
       "    .dataframe tbody tr th:only-of-type {\n",
       "        vertical-align: middle;\n",
       "    }\n",
       "\n",
       "    .dataframe tbody tr th {\n",
       "        vertical-align: top;\n",
       "    }\n",
       "\n",
       "    .dataframe thead th {\n",
       "        text-align: right;\n",
       "    }\n",
       "</style>\n",
       "<table border=\"1\" class=\"dataframe\">\n",
       "  <thead>\n",
       "    <tr style=\"text-align: right;\">\n",
       "      <th></th>\n",
       "      <th>dayofweek</th>\n",
       "      <th>hour</th>\n",
       "      <th>age</th>\n",
       "      <th>numscreens</th>\n",
       "      <th>minigame</th>\n",
       "      <th>used_premium_feature</th>\n",
       "      <th>liked</th>\n",
       "      <th>location</th>\n",
       "      <th>Institutions</th>\n",
       "      <th>VerifyPhone</th>\n",
       "      <th>...</th>\n",
       "      <th>SecurityModal</th>\n",
       "      <th>ResendToken</th>\n",
       "      <th>TransactionList</th>\n",
       "      <th>NetworkFailure</th>\n",
       "      <th>ListPicker</th>\n",
       "      <th>others</th>\n",
       "      <th>SavingsCount</th>\n",
       "      <th>CCCount</th>\n",
       "      <th>LoansCount</th>\n",
       "      <th>CMCount</th>\n",
       "    </tr>\n",
       "  </thead>\n",
       "  <tbody>\n",
       "    <tr>\n",
       "      <th>20330</th>\n",
       "      <td>-0.504961</td>\n",
       "      <td>1.000837</td>\n",
       "      <td>0.025525</td>\n",
       "      <td>-1.026726</td>\n",
       "      <td>-0.346830</td>\n",
       "      <td>2.186018</td>\n",
       "      <td>2.246319</td>\n",
       "      <td>-1.039218</td>\n",
       "      <td>-0.644848</td>\n",
       "      <td>-1.052581</td>\n",
       "      <td>...</td>\n",
       "      <td>-0.119697</td>\n",
       "      <td>-0.11742</td>\n",
       "      <td>-0.115879</td>\n",
       "      <td>-0.091207</td>\n",
       "      <td>-0.087221</td>\n",
       "      <td>-1.147303</td>\n",
       "      <td>-0.260877</td>\n",
       "      <td>-0.289185</td>\n",
       "      <td>1.785389</td>\n",
       "      <td>-0.763372</td>\n",
       "    </tr>\n",
       "    <tr>\n",
       "      <th>17532</th>\n",
       "      <td>-0.997389</td>\n",
       "      <td>1.135280</td>\n",
       "      <td>-0.898034</td>\n",
       "      <td>1.328829</td>\n",
       "      <td>2.883254</td>\n",
       "      <td>-0.457453</td>\n",
       "      <td>-0.445173</td>\n",
       "      <td>0.962262</td>\n",
       "      <td>1.550753</td>\n",
       "      <td>0.950046</td>\n",
       "      <td>...</td>\n",
       "      <td>-0.119697</td>\n",
       "      <td>-0.11742</td>\n",
       "      <td>-0.115879</td>\n",
       "      <td>-0.091207</td>\n",
       "      <td>-0.087221</td>\n",
       "      <td>1.839740</td>\n",
       "      <td>-0.260877</td>\n",
       "      <td>-0.289185</td>\n",
       "      <td>0.309800</td>\n",
       "      <td>0.057524</td>\n",
       "    </tr>\n",
       "    <tr>\n",
       "      <th>45819</th>\n",
       "      <td>-1.489818</td>\n",
       "      <td>-1.150250</td>\n",
       "      <td>-0.528611</td>\n",
       "      <td>4.066366</td>\n",
       "      <td>2.883254</td>\n",
       "      <td>-0.457453</td>\n",
       "      <td>-0.445173</td>\n",
       "      <td>-1.039218</td>\n",
       "      <td>1.550753</td>\n",
       "      <td>-1.052581</td>\n",
       "      <td>...</td>\n",
       "      <td>-0.119697</td>\n",
       "      <td>-0.11742</td>\n",
       "      <td>-0.115879</td>\n",
       "      <td>-0.091207</td>\n",
       "      <td>-0.087221</td>\n",
       "      <td>1.025092</td>\n",
       "      <td>-0.260877</td>\n",
       "      <td>1.336593</td>\n",
       "      <td>1.785389</td>\n",
       "      <td>0.878421</td>\n",
       "    </tr>\n",
       "    <tr>\n",
       "      <th>34807</th>\n",
       "      <td>0.479896</td>\n",
       "      <td>0.059736</td>\n",
       "      <td>-0.620967</td>\n",
       "      <td>0.182883</td>\n",
       "      <td>2.883254</td>\n",
       "      <td>-0.457453</td>\n",
       "      <td>-0.445173</td>\n",
       "      <td>0.962262</td>\n",
       "      <td>-0.644848</td>\n",
       "      <td>-1.052581</td>\n",
       "      <td>...</td>\n",
       "      <td>-0.119697</td>\n",
       "      <td>-0.11742</td>\n",
       "      <td>-0.115879</td>\n",
       "      <td>-0.091207</td>\n",
       "      <td>-0.087221</td>\n",
       "      <td>1.025092</td>\n",
       "      <td>-0.260877</td>\n",
       "      <td>-0.289185</td>\n",
       "      <td>0.309800</td>\n",
       "      <td>-0.763372</td>\n",
       "    </tr>\n",
       "    <tr>\n",
       "      <th>31888</th>\n",
       "      <td>-0.012532</td>\n",
       "      <td>0.463065</td>\n",
       "      <td>1.687932</td>\n",
       "      <td>-0.644744</td>\n",
       "      <td>-0.346830</td>\n",
       "      <td>-0.457453</td>\n",
       "      <td>-0.445173</td>\n",
       "      <td>0.962262</td>\n",
       "      <td>-0.644848</td>\n",
       "      <td>0.950046</td>\n",
       "      <td>...</td>\n",
       "      <td>-0.119697</td>\n",
       "      <td>-0.11742</td>\n",
       "      <td>-0.115879</td>\n",
       "      <td>-0.091207</td>\n",
       "      <td>-0.087221</td>\n",
       "      <td>-0.875753</td>\n",
       "      <td>-0.260877</td>\n",
       "      <td>-0.289185</td>\n",
       "      <td>-1.165789</td>\n",
       "      <td>0.878421</td>\n",
       "    </tr>\n",
       "  </tbody>\n",
       "</table>\n",
       "<p>5 rows × 48 columns</p>\n",
       "</div>"
      ],
      "text/plain": [
       "       dayofweek      hour       age  numscreens  minigame  \\\n",
       "20330  -0.504961  1.000837  0.025525   -1.026726 -0.346830   \n",
       "17532  -0.997389  1.135280 -0.898034    1.328829  2.883254   \n",
       "45819  -1.489818 -1.150250 -0.528611    4.066366  2.883254   \n",
       "34807   0.479896  0.059736 -0.620967    0.182883  2.883254   \n",
       "31888  -0.012532  0.463065  1.687932   -0.644744 -0.346830   \n",
       "\n",
       "       used_premium_feature     liked  location  Institutions  VerifyPhone  \\\n",
       "20330              2.186018  2.246319 -1.039218     -0.644848    -1.052581   \n",
       "17532             -0.457453 -0.445173  0.962262      1.550753     0.950046   \n",
       "45819             -0.457453 -0.445173 -1.039218      1.550753    -1.052581   \n",
       "34807             -0.457453 -0.445173  0.962262     -0.644848    -1.052581   \n",
       "31888             -0.457453 -0.445173  0.962262     -0.644848     0.950046   \n",
       "\n",
       "         ...     SecurityModal  ResendToken  TransactionList  NetworkFailure  \\\n",
       "20330    ...         -0.119697     -0.11742        -0.115879       -0.091207   \n",
       "17532    ...         -0.119697     -0.11742        -0.115879       -0.091207   \n",
       "45819    ...         -0.119697     -0.11742        -0.115879       -0.091207   \n",
       "34807    ...         -0.119697     -0.11742        -0.115879       -0.091207   \n",
       "31888    ...         -0.119697     -0.11742        -0.115879       -0.091207   \n",
       "\n",
       "       ListPicker    others  SavingsCount   CCCount  LoansCount   CMCount  \n",
       "20330   -0.087221 -1.147303     -0.260877 -0.289185    1.785389 -0.763372  \n",
       "17532   -0.087221  1.839740     -0.260877 -0.289185    0.309800  0.057524  \n",
       "45819   -0.087221  1.025092     -0.260877  1.336593    1.785389  0.878421  \n",
       "34807   -0.087221  1.025092     -0.260877 -0.289185    0.309800 -0.763372  \n",
       "31888   -0.087221 -0.875753     -0.260877 -0.289185   -1.165789  0.878421  \n",
       "\n",
       "[5 rows x 48 columns]"
      ]
     },
     "execution_count": 10,
     "metadata": {},
     "output_type": "execute_result"
    }
   ],
   "source": [
    "X_train.head()"
   ]
  },
  {
   "cell_type": "code",
   "execution_count": 11,
   "metadata": {},
   "outputs": [
    {
     "data": {
      "text/html": [
       "<div>\n",
       "<style scoped>\n",
       "    .dataframe tbody tr th:only-of-type {\n",
       "        vertical-align: middle;\n",
       "    }\n",
       "\n",
       "    .dataframe tbody tr th {\n",
       "        vertical-align: top;\n",
       "    }\n",
       "\n",
       "    .dataframe thead th {\n",
       "        text-align: right;\n",
       "    }\n",
       "</style>\n",
       "<table border=\"1\" class=\"dataframe\">\n",
       "  <thead>\n",
       "    <tr style=\"text-align: right;\">\n",
       "      <th></th>\n",
       "      <th>dayofweek</th>\n",
       "      <th>hour</th>\n",
       "      <th>age</th>\n",
       "      <th>numscreens</th>\n",
       "      <th>minigame</th>\n",
       "      <th>used_premium_feature</th>\n",
       "      <th>liked</th>\n",
       "      <th>location</th>\n",
       "      <th>Institutions</th>\n",
       "      <th>VerifyPhone</th>\n",
       "      <th>...</th>\n",
       "      <th>SecurityModal</th>\n",
       "      <th>ResendToken</th>\n",
       "      <th>TransactionList</th>\n",
       "      <th>NetworkFailure</th>\n",
       "      <th>ListPicker</th>\n",
       "      <th>others</th>\n",
       "      <th>SavingsCount</th>\n",
       "      <th>CCCount</th>\n",
       "      <th>LoansCount</th>\n",
       "      <th>CMCount</th>\n",
       "    </tr>\n",
       "  </thead>\n",
       "  <tbody>\n",
       "    <tr>\n",
       "      <th>11841</th>\n",
       "      <td>-1.489818</td>\n",
       "      <td>-1.553579</td>\n",
       "      <td>0.856728</td>\n",
       "      <td>0.819520</td>\n",
       "      <td>-0.34683</td>\n",
       "      <td>-0.457453</td>\n",
       "      <td>2.246319</td>\n",
       "      <td>0.962262</td>\n",
       "      <td>-0.644848</td>\n",
       "      <td>0.950046</td>\n",
       "      <td>...</td>\n",
       "      <td>-0.119697</td>\n",
       "      <td>-0.11742</td>\n",
       "      <td>-0.115879</td>\n",
       "      <td>-0.091207</td>\n",
       "      <td>-0.087221</td>\n",
       "      <td>1.296641</td>\n",
       "      <td>-0.260877</td>\n",
       "      <td>-0.289185</td>\n",
       "      <td>-1.165789</td>\n",
       "      <td>-0.763372</td>\n",
       "    </tr>\n",
       "    <tr>\n",
       "      <th>19602</th>\n",
       "      <td>0.972325</td>\n",
       "      <td>-0.881364</td>\n",
       "      <td>-0.528611</td>\n",
       "      <td>0.564865</td>\n",
       "      <td>-0.34683</td>\n",
       "      <td>-0.457453</td>\n",
       "      <td>-0.445173</td>\n",
       "      <td>0.962262</td>\n",
       "      <td>-0.644848</td>\n",
       "      <td>0.950046</td>\n",
       "      <td>...</td>\n",
       "      <td>-0.119697</td>\n",
       "      <td>-0.11742</td>\n",
       "      <td>-0.115879</td>\n",
       "      <td>-0.091207</td>\n",
       "      <td>-0.087221</td>\n",
       "      <td>0.753543</td>\n",
       "      <td>-0.260877</td>\n",
       "      <td>-0.289185</td>\n",
       "      <td>0.309800</td>\n",
       "      <td>-0.763372</td>\n",
       "    </tr>\n",
       "    <tr>\n",
       "      <th>45519</th>\n",
       "      <td>-1.489818</td>\n",
       "      <td>0.328622</td>\n",
       "      <td>0.487305</td>\n",
       "      <td>-0.644744</td>\n",
       "      <td>-0.34683</td>\n",
       "      <td>2.186018</td>\n",
       "      <td>-0.445173</td>\n",
       "      <td>-1.039218</td>\n",
       "      <td>-0.644848</td>\n",
       "      <td>-1.052581</td>\n",
       "      <td>...</td>\n",
       "      <td>-0.119697</td>\n",
       "      <td>-0.11742</td>\n",
       "      <td>-0.115879</td>\n",
       "      <td>-0.091207</td>\n",
       "      <td>-0.087221</td>\n",
       "      <td>-0.332655</td>\n",
       "      <td>-0.260877</td>\n",
       "      <td>-0.289185</td>\n",
       "      <td>1.785389</td>\n",
       "      <td>0.057524</td>\n",
       "    </tr>\n",
       "    <tr>\n",
       "      <th>25747</th>\n",
       "      <td>0.972325</td>\n",
       "      <td>0.866394</td>\n",
       "      <td>-0.990390</td>\n",
       "      <td>-0.517417</td>\n",
       "      <td>-0.34683</td>\n",
       "      <td>-0.457453</td>\n",
       "      <td>2.246319</td>\n",
       "      <td>-1.039218</td>\n",
       "      <td>-0.644848</td>\n",
       "      <td>0.950046</td>\n",
       "      <td>...</td>\n",
       "      <td>-0.119697</td>\n",
       "      <td>-0.11742</td>\n",
       "      <td>-0.115879</td>\n",
       "      <td>-0.091207</td>\n",
       "      <td>-0.087221</td>\n",
       "      <td>0.481993</td>\n",
       "      <td>-0.260877</td>\n",
       "      <td>-0.289185</td>\n",
       "      <td>-1.165789</td>\n",
       "      <td>-0.763372</td>\n",
       "    </tr>\n",
       "    <tr>\n",
       "      <th>42642</th>\n",
       "      <td>0.972325</td>\n",
       "      <td>-1.553579</td>\n",
       "      <td>-0.159187</td>\n",
       "      <td>0.692193</td>\n",
       "      <td>-0.34683</td>\n",
       "      <td>-0.457453</td>\n",
       "      <td>-0.445173</td>\n",
       "      <td>-1.039218</td>\n",
       "      <td>-0.644848</td>\n",
       "      <td>0.950046</td>\n",
       "      <td>...</td>\n",
       "      <td>-0.119697</td>\n",
       "      <td>-0.11742</td>\n",
       "      <td>-0.115879</td>\n",
       "      <td>-0.091207</td>\n",
       "      <td>-0.087221</td>\n",
       "      <td>-0.604204</td>\n",
       "      <td>1.857638</td>\n",
       "      <td>2.962372</td>\n",
       "      <td>-1.165789</td>\n",
       "      <td>-0.763372</td>\n",
       "    </tr>\n",
       "  </tbody>\n",
       "</table>\n",
       "<p>5 rows × 48 columns</p>\n",
       "</div>"
      ],
      "text/plain": [
       "       dayofweek      hour       age  numscreens  minigame  \\\n",
       "11841  -1.489818 -1.553579  0.856728    0.819520  -0.34683   \n",
       "19602   0.972325 -0.881364 -0.528611    0.564865  -0.34683   \n",
       "45519  -1.489818  0.328622  0.487305   -0.644744  -0.34683   \n",
       "25747   0.972325  0.866394 -0.990390   -0.517417  -0.34683   \n",
       "42642   0.972325 -1.553579 -0.159187    0.692193  -0.34683   \n",
       "\n",
       "       used_premium_feature     liked  location  Institutions  VerifyPhone  \\\n",
       "11841             -0.457453  2.246319  0.962262     -0.644848     0.950046   \n",
       "19602             -0.457453 -0.445173  0.962262     -0.644848     0.950046   \n",
       "45519              2.186018 -0.445173 -1.039218     -0.644848    -1.052581   \n",
       "25747             -0.457453  2.246319 -1.039218     -0.644848     0.950046   \n",
       "42642             -0.457453 -0.445173 -1.039218     -0.644848     0.950046   \n",
       "\n",
       "         ...     SecurityModal  ResendToken  TransactionList  NetworkFailure  \\\n",
       "11841    ...         -0.119697     -0.11742        -0.115879       -0.091207   \n",
       "19602    ...         -0.119697     -0.11742        -0.115879       -0.091207   \n",
       "45519    ...         -0.119697     -0.11742        -0.115879       -0.091207   \n",
       "25747    ...         -0.119697     -0.11742        -0.115879       -0.091207   \n",
       "42642    ...         -0.119697     -0.11742        -0.115879       -0.091207   \n",
       "\n",
       "       ListPicker    others  SavingsCount   CCCount  LoansCount   CMCount  \n",
       "11841   -0.087221  1.296641     -0.260877 -0.289185   -1.165789 -0.763372  \n",
       "19602   -0.087221  0.753543     -0.260877 -0.289185    0.309800 -0.763372  \n",
       "45519   -0.087221 -0.332655     -0.260877 -0.289185    1.785389  0.057524  \n",
       "25747   -0.087221  0.481993     -0.260877 -0.289185   -1.165789 -0.763372  \n",
       "42642   -0.087221 -0.604204      1.857638  2.962372   -1.165789 -0.763372  \n",
       "\n",
       "[5 rows x 48 columns]"
      ]
     },
     "execution_count": 11,
     "metadata": {},
     "output_type": "execute_result"
    }
   ],
   "source": [
    "X_test.head()"
   ]
  },
  {
   "cell_type": "code",
   "execution_count": 12,
   "metadata": {},
   "outputs": [],
   "source": [
    "#model building"
   ]
  },
  {
   "cell_type": "code",
   "execution_count": 41,
   "metadata": {},
   "outputs": [
    {
     "name": "stderr",
     "output_type": "stream",
     "text": [
      "C:\\Users\\rajit\\Anaconda3\\lib\\site-packages\\sklearn\\linear_model\\logistic.py:433: FutureWarning: Default solver will be changed to 'lbfgs' in 0.22. Specify a solver to silence this warning.\n",
      "  FutureWarning)\n"
     ]
    },
    {
     "data": {
      "text/plain": [
       "LogisticRegression(C=1.0, class_weight=None, dual=False, fit_intercept=True,\n",
       "          intercept_scaling=1, max_iter=100, multi_class='warn',\n",
       "          n_jobs=None, penalty='l1', random_state=0, solver='warn',\n",
       "          tol=0.0001, verbose=0, warm_start=False)"
      ]
     },
     "execution_count": 41,
     "metadata": {},
     "output_type": "execute_result"
    }
   ],
   "source": [
    "from sklearn.linear_model import LogisticRegression\n",
    "classifier = LogisticRegression(random_state=0,penalty='l1')\n",
    "classifier.fit(X_train,y_train)"
   ]
  },
  {
   "cell_type": "code",
   "execution_count": 42,
   "metadata": {},
   "outputs": [],
   "source": [
    "y_pred = classifier.predict(X_test)"
   ]
  },
  {
   "cell_type": "code",
   "execution_count": 43,
   "metadata": {},
   "outputs": [],
   "source": [
    "from sklearn.metrics import confusion_matrix,accuracy_score,f1_score,precision_score,recall_score"
   ]
  },
  {
   "cell_type": "code",
   "execution_count": 44,
   "metadata": {},
   "outputs": [
    {
     "data": {
      "text/plain": [
       "<matplotlib.axes._subplots.AxesSubplot at 0x280bf982e80>"
      ]
     },
     "execution_count": 44,
     "metadata": {},
     "output_type": "execute_result"
    },
    {
     "data": {
      "image/png": "[encoded data removed]",
      "text/plain": [
       "<Figure size 432x288 with 2 Axes>"
      ]
     },
     "metadata": {
      "needs_background": "light"
     },
     "output_type": "display_data"
    }
   ],
   "source": [
    "cm = confusion_matrix(y_test,y_pred)\n",
    "sns.heatmap(cm,annot=True,fmt='g',xticklabels=['Predicted Negative','Predicted Positive'],yticklabels=['Actual Negative','Actual Postive'])"
   ]
  },
  {
   "cell_type": "code",
   "execution_count": 45,
   "metadata": {},
   "outputs": [
    {
     "data": {
      "text/plain": [
       "0.7682"
      ]
     },
     "execution_count": 45,
     "metadata": {},
     "output_type": "execute_result"
    }
   ],
   "source": [
    "ac_score = accuracy_score(y_test,y_pred)\n",
    "ac_score"
   ]
  },
  {
   "cell_type": "code",
   "execution_count": 46,
   "metadata": {},
   "outputs": [
    {
     "data": {
      "text/plain": [
       "0.7619429947812124"
      ]
     },
     "execution_count": 46,
     "metadata": {},
     "output_type": "execute_result"
    }
   ],
   "source": [
    "# True Positive/(True Positive+Flase negative)=>predicted all postive\n",
    "pr_score = precision_score(y_test,y_pred)\n",
    "pr_score"
   ]
  },
  {
   "cell_type": "code",
   "execution_count": 47,
   "metadata": {},
   "outputs": [
    {
     "data": {
      "text/plain": [
       "0.7702922077922078"
      ]
     },
     "execution_count": 47,
     "metadata": {},
     "output_type": "execute_result"
    }
   ],
   "source": [
    "#True Positive/(True Positive+Flase Positive)=>actual all postive\n",
    "re_score = recall_score(y_test,y_pred)\n",
    "re_score"
   ]
  },
  {
   "cell_type": "code",
   "execution_count": 48,
   "metadata": {},
   "outputs": [
    {
     "data": {
      "text/plain": [
       "0.7660948536831482"
      ]
     },
     "execution_count": 48,
     "metadata": {},
     "output_type": "execute_result"
    }
   ],
   "source": [
    "# 2.precision.recall/(precision+recall)\n",
    "f1 = f1_score(y_test,y_pred)\n",
    "f1"
   ]
  },
  {
   "cell_type": "code",
   "execution_count": 38,
   "metadata": {},
   "outputs": [],
   "source": [
    "#K-Flod cross validation "
   ]
  },
  {
   "cell_type": "code",
   "execution_count": 53,
   "metadata": {
    "scrolled": true
   },
   "outputs": [
    {
     "name": "stderr",
     "output_type": "stream",
     "text": [
      "C:\\Users\\rajit\\Anaconda3\\lib\\site-packages\\sklearn\\linear_model\\logistic.py:433: FutureWarning: Default solver will be changed to 'lbfgs' in 0.22. Specify a solver to silence this warning.\n",
      "  FutureWarning)\n",
      "C:\\Users\\rajit\\Anaconda3\\lib\\site-packages\\sklearn\\linear_model\\logistic.py:433: FutureWarning: Default solver will be changed to 'lbfgs' in 0.22. Specify a solver to silence this warning.\n",
      "  FutureWarning)\n",
      "C:\\Users\\rajit\\Anaconda3\\lib\\site-packages\\sklearn\\linear_model\\logistic.py:433: FutureWarning: Default solver will be changed to 'lbfgs' in 0.22. Specify a solver to silence this warning.\n",
      "  FutureWarning)\n",
      "C:\\Users\\rajit\\Anaconda3\\lib\\site-packages\\sklearn\\linear_model\\logistic.py:433: FutureWarning: Default solver will be changed to 'lbfgs' in 0.22. Specify a solver to silence this warning.\n",
      "  FutureWarning)\n",
      "C:\\Users\\rajit\\Anaconda3\\lib\\site-packages\\sklearn\\linear_model\\logistic.py:433: FutureWarning: Default solver will be changed to 'lbfgs' in 0.22. Specify a solver to silence this warning.\n",
      "  FutureWarning)\n",
      "C:\\Users\\rajit\\Anaconda3\\lib\\site-packages\\sklearn\\linear_model\\logistic.py:433: FutureWarning: Default solver will be changed to 'lbfgs' in 0.22. Specify a solver to silence this warning.\n",
      "  FutureWarning)\n",
      "C:\\Users\\rajit\\Anaconda3\\lib\\site-packages\\sklearn\\linear_model\\logistic.py:433: FutureWarning: Default solver will be changed to 'lbfgs' in 0.22. Specify a solver to silence this warning.\n",
      "  FutureWarning)\n",
      "C:\\Users\\rajit\\Anaconda3\\lib\\site-packages\\sklearn\\linear_model\\logistic.py:433: FutureWarning: Default solver will be changed to 'lbfgs' in 0.22. Specify a solver to silence this warning.\n",
      "  FutureWarning)\n",
      "C:\\Users\\rajit\\Anaconda3\\lib\\site-packages\\sklearn\\linear_model\\logistic.py:433: FutureWarning: Default solver will be changed to 'lbfgs' in 0.22. Specify a solver to silence this warning.\n",
      "  FutureWarning)\n",
      "C:\\Users\\rajit\\Anaconda3\\lib\\site-packages\\sklearn\\linear_model\\logistic.py:433: FutureWarning: Default solver will be changed to 'lbfgs' in 0.22. Specify a solver to silence this warning.\n",
      "  FutureWarning)\n"
     ]
    },
    {
     "name": "stdout",
     "output_type": "stream",
     "text": [
      "Accuracy: 0.77 (+/- 0.01)\n"
     ]
    }
   ],
   "source": [
    "from sklearn.model_selection import cross_val_score\n",
    "scores = cross_val_score(estimator=classifier,X=X_train,y=y_train,cv=10)\n",
    "print(\"Accuracy: %0.2f (+/- %0.2f)\" % (scores.mean(), scores.std() * 2))"
   ]
  },
  {
   "cell_type": "code",
   "execution_count": 54,
   "metadata": {},
   "outputs": [],
   "source": [
    "#Formatting the final result"
   ]
  },
  {
   "cell_type": "code",
   "execution_count": 56,
   "metadata": {},
   "outputs": [],
   "source": [
    "final_results = pd.concat([y_test,test_identifier],axis=1).dropna()"
   ]
  },
  {
   "cell_type": "code",
   "execution_count": 58,
   "metadata": {},
   "outputs": [],
   "source": [
    "final_results['predicted_result'] = y_pred"
   ]
  },
  {
   "cell_type": "code",
   "execution_count": 67,
   "metadata": {},
   "outputs": [
    {
     "data": {
      "text/html": [
       "<div>\n",
       "<style scoped>\n",
       "    .dataframe tbody tr th:only-of-type {\n",
       "        vertical-align: middle;\n",
       "    }\n",
       "\n",
       "    .dataframe tbody tr th {\n",
       "        vertical-align: top;\n",
       "    }\n",
       "\n",
       "    .dataframe thead th {\n",
       "        text-align: right;\n",
       "    }\n",
       "</style>\n",
       "<table border=\"1\" class=\"dataframe\">\n",
       "  <thead>\n",
       "    <tr style=\"text-align: right;\">\n",
       "      <th></th>\n",
       "      <th>user</th>\n",
       "      <th>enrolled</th>\n",
       "      <th>predicted_result</th>\n",
       "    </tr>\n",
       "  </thead>\n",
       "  <tbody>\n",
       "    <tr>\n",
       "      <th>0</th>\n",
       "      <td>239786</td>\n",
       "      <td>1</td>\n",
       "      <td>1</td>\n",
       "    </tr>\n",
       "    <tr>\n",
       "      <th>1</th>\n",
       "      <td>279644</td>\n",
       "      <td>1</td>\n",
       "      <td>1</td>\n",
       "    </tr>\n",
       "    <tr>\n",
       "      <th>2</th>\n",
       "      <td>98290</td>\n",
       "      <td>0</td>\n",
       "      <td>0</td>\n",
       "    </tr>\n",
       "    <tr>\n",
       "      <th>3</th>\n",
       "      <td>170150</td>\n",
       "      <td>1</td>\n",
       "      <td>1</td>\n",
       "    </tr>\n",
       "    <tr>\n",
       "      <th>4</th>\n",
       "      <td>237568</td>\n",
       "      <td>1</td>\n",
       "      <td>1</td>\n",
       "    </tr>\n",
       "  </tbody>\n",
       "</table>\n",
       "</div>"
      ],
      "text/plain": [
       "     user  enrolled  predicted_result\n",
       "0  239786         1                 1\n",
       "1  279644         1                 1\n",
       "2   98290         0                 0\n",
       "3  170150         1                 1\n",
       "4  237568         1                 1"
      ]
     },
     "execution_count": 67,
     "metadata": {},
     "output_type": "execute_result"
    }
   ],
   "source": [
    "final_results[['user','enrolled','predicted_result']].reset_index(drop=True).head()\n"
   ]
  },
  {
   "cell_type": "code",
   "execution_count": null,
   "metadata": {},
   "outputs": [],
   "source": []
  },
  {
   "cell_type": "code",
   "execution_count": null,
   "metadata": {},
   "outputs": [],
   "source": []
  }
 ],
 "metadata": {
  "kernelspec": {
   "display_name": "Python 3",
   "language": "python",
   "name": "python3"
  },
  "language_info": {
   "codemirror_mode": {
    "name": "ipython",
    "version": 3
   },
   "file_extension": ".py",
   "mimetype": "text/x-python",
   "name": "python",
   "nbconvert_exporter": "python",
   "pygments_lexer": "ipython3",
   "version": "3.7.1"
  }
 },
 "nbformat": 4,
 "nbformat_minor": 2
}
